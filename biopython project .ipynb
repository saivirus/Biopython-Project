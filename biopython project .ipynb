{
 "cells": [
  {
   "cell_type": "code",
   "execution_count": null,
   "id": "db1d3b35",
   "metadata": {},
   "outputs": [],
   "source": [
    "### PAIRWISE SEQUENCE ALIGNMENT USING BIOPYTHON "
   ]
  },
  {
   "cell_type": "code",
   "execution_count": 16,
   "id": "0b865581",
   "metadata": {},
   "outputs": [],
   "source": [
    "##step 1\n",
    "from Bio import pairwise2"
   ]
  },
  {
   "cell_type": "code",
   "execution_count": 17,
   "id": "b3becdd3",
   "metadata": {},
   "outputs": [],
   "source": [
    "##step2\n",
    "from Bio.Seq import Seq \n",
    "seq1 = Seq(\"ACCGGT\") \n",
    "seq2 = Seq(\"ACGT\")"
   ]
  },
  {
   "cell_type": "code",
   "execution_count": 19,
   "id": "184f738b",
   "metadata": {},
   "outputs": [],
   "source": [
    "#step3\n",
    "alignments = pairwise2.align.globalxx(seq1, seq2)"
   ]
  },
  {
   "cell_type": "code",
   "execution_count": 20,
   "id": "8bd118b5",
   "metadata": {},
   "outputs": [
    {
     "name": "stdout",
     "output_type": "stream",
     "text": [
      "Alignment(seqA='ACCGGT', seqB='A-C-GT', score=4.0, start=0, end=6)\n",
      "Alignment(seqA='ACCGGT', seqB='AC--GT', score=4.0, start=0, end=6)\n",
      "Alignment(seqA='ACCGGT', seqB='A-CG-T', score=4.0, start=0, end=6)\n",
      "Alignment(seqA='ACCGGT', seqB='AC-G-T', score=4.0, start=0, end=6)\n"
     ]
    }
   ],
   "source": [
    "#step 4\n",
    "for alignment in alignments: \n",
    "    print(alignment) "
   ]
  },
  {
   "cell_type": "code",
   "execution_count": 21,
   "id": "eb6e8d74",
   "metadata": {},
   "outputs": [
    {
     "name": "stdout",
     "output_type": "stream",
     "text": [
      "ACCGGT\n",
      "| | ||\n",
      "A-C-GT\n",
      "  Score=4\n",
      "\n",
      "ACCGGT\n",
      "||  ||\n",
      "AC--GT\n",
      "  Score=4\n",
      "\n",
      "ACCGGT\n",
      "| || |\n",
      "A-CG-T\n",
      "  Score=4\n",
      "\n",
      "ACCGGT\n",
      "|| | |\n",
      "AC-G-T\n",
      "  Score=4\n",
      "\n"
     ]
    }
   ],
   "source": [
    "#for a better view of our output we will use format_method of format alignment module\n",
    "\n",
    "from Bio.pairwise2 import format_alignment \n",
    "alignments = pairwise2.align.globalxx(seq1, seq2) \n",
    "for alignment in alignments: \n",
    "    print(format_alignment(*alignment))\n",
    "            "
   ]
  },
  {
   "cell_type": "code",
   "execution_count": 22,
   "id": "c9816c5b",
   "metadata": {},
   "outputs": [
    {
     "name": "stdout",
     "output_type": "stream",
     "text": [
      "Pairwise sequence aligner with parameters\n",
      "  wildcard: None\n",
      "  match_score: 1.000000\n",
      "  mismatch_score: 0.000000\n",
      "  target_internal_open_gap_score: 0.000000\n",
      "  target_internal_extend_gap_score: 0.000000\n",
      "  target_left_open_gap_score: 0.000000\n",
      "  target_left_extend_gap_score: 0.000000\n",
      "  target_right_open_gap_score: 0.000000\n",
      "  target_right_extend_gap_score: 0.000000\n",
      "  query_internal_open_gap_score: 0.000000\n",
      "  query_internal_extend_gap_score: 0.000000\n",
      "  query_left_open_gap_score: 0.000000\n",
      "  query_left_extend_gap_score: 0.000000\n",
      "  query_right_open_gap_score: 0.000000\n",
      "  query_right_extend_gap_score: 0.000000\n",
      "  mode: global\n",
      "\n",
      "ACCGGT\n",
      "||-|-|\n",
      "AC-G-T\n",
      "\n",
      "ACCGGT\n",
      "|-||-|\n",
      "A-CG-T\n",
      "\n",
      "ACCGGT\n",
      "||--||\n",
      "AC--GT\n",
      "\n",
      "ACCGGT\n",
      "|-|-||\n",
      "A-C-GT\n",
      "\n"
     ]
    }
   ],
   "source": [
    "#alignment using Align module\n",
    "\n",
    "# Import libraries\n",
    "from Bio import Align\n",
    "from Bio.Seq import Seq\n",
    "  \n",
    "# Creating sample sequences\n",
    "seq1 = Seq(\"ACCGGT\")\n",
    "seq2 = Seq(\"ACGT\")\n",
    "  \n",
    "# Calling method\n",
    "aligner = Align.PairwiseAligner()\n",
    "  \n",
    "# Showing method attributes\n",
    "print(aligner)\n",
    "  \n",
    "# Finding similarities\n",
    "alignments = aligner.align(seq1, seq2)\n",
    "  \n",
    "# Showing results\n",
    "for alignment in alignments:\n",
    "    print(alignment)"
   ]
  },
  {
   "cell_type": "code",
   "execution_count": null,
   "id": "017e7772",
   "metadata": {},
   "outputs": [],
   "source": []
  }
 ],
 "metadata": {
  "kernelspec": {
   "display_name": "Python 3 (ipykernel)",
   "language": "python",
   "name": "python3"
  },
  "language_info": {
   "codemirror_mode": {
    "name": "ipython",
    "version": 3
   },
   "file_extension": ".py",
   "mimetype": "text/x-python",
   "name": "python",
   "nbconvert_exporter": "python",
   "pygments_lexer": "ipython3",
   "version": "3.9.7"
  }
 },
 "nbformat": 4,
 "nbformat_minor": 5
}
